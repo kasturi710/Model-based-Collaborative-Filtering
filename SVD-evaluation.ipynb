{
 "cells": [
  {
   "cell_type": "markdown",
   "id": "21240229",
   "metadata": {},
   "source": [
    "## 1. Dataset Overview\n",
    "We use the amazon product review dataset for the analysis of  recommendation systems using collaborative filtering. The dataset includes the following parameters\n",
    "* userId\n",
    "* productId\n",
    "* Rating\n",
    "* timestamp"
   ]
  },
  {
   "cell_type": "code",
   "execution_count": 1,
   "id": "df370500",
   "metadata": {},
   "outputs": [],
   "source": [
    "import pandas as pd\n",
    "import numpy as np\n",
    "import matplotlib.pyplot as plt\n",
    "import seaborn as sns\n",
    "from surprise import SVD, Reader, Dataset"
   ]
  },
  {
   "cell_type": "markdown",
   "id": "0678dc30",
   "metadata": {},
   "source": [
    "### 1.1 Dataset description"
   ]
  },
  {
   "cell_type": "code",
   "execution_count": 2,
   "id": "24b895ca",
   "metadata": {},
   "outputs": [],
   "source": [
    "df = pd.read_csv('ratings_Electronics.csv')"
   ]
  },
  {
   "cell_type": "code",
   "execution_count": 3,
   "id": "8d24717e",
   "metadata": {},
   "outputs": [
    {
     "name": "stdout",
     "output_type": "stream",
     "text": [
      "The length of the dataset is\n"
     ]
    },
    {
     "data": {
      "text/plain": [
       "7824481"
      ]
     },
     "execution_count": 3,
     "metadata": {},
     "output_type": "execute_result"
    }
   ],
   "source": [
    "print(\"The length of the dataset is\")\n",
    "len(df)"
   ]
  },
  {
   "cell_type": "code",
   "execution_count": 4,
   "id": "ad3533e4",
   "metadata": {},
   "outputs": [],
   "source": [
    "df.columns=['userId', 'productId','Rating','timestamp']"
   ]
  },
  {
   "cell_type": "code",
   "execution_count": 5,
   "id": "6e6a648c",
   "metadata": {},
   "outputs": [
    {
     "data": {
      "text/html": [
       "<div>\n",
       "<style scoped>\n",
       "    .dataframe tbody tr th:only-of-type {\n",
       "        vertical-align: middle;\n",
       "    }\n",
       "\n",
       "    .dataframe tbody tr th {\n",
       "        vertical-align: top;\n",
       "    }\n",
       "\n",
       "    .dataframe thead th {\n",
       "        text-align: right;\n",
       "    }\n",
       "</style>\n",
       "<table border=\"1\" class=\"dataframe\">\n",
       "  <thead>\n",
       "    <tr style=\"text-align: right;\">\n",
       "      <th></th>\n",
       "      <th>userId</th>\n",
       "      <th>productId</th>\n",
       "      <th>Rating</th>\n",
       "      <th>timestamp</th>\n",
       "    </tr>\n",
       "  </thead>\n",
       "  <tbody>\n",
       "    <tr>\n",
       "      <th>7824476</th>\n",
       "      <td>A2YZI3C9MOHC0L</td>\n",
       "      <td>BT008UKTMW</td>\n",
       "      <td>5.0</td>\n",
       "      <td>1396569600</td>\n",
       "    </tr>\n",
       "    <tr>\n",
       "      <th>7824477</th>\n",
       "      <td>A322MDK0M89RHN</td>\n",
       "      <td>BT008UKTMW</td>\n",
       "      <td>5.0</td>\n",
       "      <td>1313366400</td>\n",
       "    </tr>\n",
       "    <tr>\n",
       "      <th>7824478</th>\n",
       "      <td>A1MH90R0ADMIK0</td>\n",
       "      <td>BT008UKTMW</td>\n",
       "      <td>4.0</td>\n",
       "      <td>1404172800</td>\n",
       "    </tr>\n",
       "    <tr>\n",
       "      <th>7824479</th>\n",
       "      <td>A10M2KEFPEQDHN</td>\n",
       "      <td>BT008UKTMW</td>\n",
       "      <td>4.0</td>\n",
       "      <td>1297555200</td>\n",
       "    </tr>\n",
       "    <tr>\n",
       "      <th>7824480</th>\n",
       "      <td>A2G81TMIOIDEQQ</td>\n",
       "      <td>BT008V9J9U</td>\n",
       "      <td>5.0</td>\n",
       "      <td>1312675200</td>\n",
       "    </tr>\n",
       "  </tbody>\n",
       "</table>\n",
       "</div>"
      ],
      "text/plain": [
       "                 userId   productId  Rating   timestamp\n",
       "7824476  A2YZI3C9MOHC0L  BT008UKTMW     5.0  1396569600\n",
       "7824477  A322MDK0M89RHN  BT008UKTMW     5.0  1313366400\n",
       "7824478  A1MH90R0ADMIK0  BT008UKTMW     4.0  1404172800\n",
       "7824479  A10M2KEFPEQDHN  BT008UKTMW     4.0  1297555200\n",
       "7824480  A2G81TMIOIDEQQ  BT008V9J9U     5.0  1312675200"
      ]
     },
     "execution_count": 5,
     "metadata": {},
     "output_type": "execute_result"
    }
   ],
   "source": [
    "df.tail()"
   ]
  },
  {
   "cell_type": "markdown",
   "id": "1bb700a9",
   "metadata": {},
   "source": [
    "### 1.2 Dataset size reduction"
   ]
  },
  {
   "cell_type": "code",
   "execution_count": 6,
   "id": "46198f62",
   "metadata": {},
   "outputs": [
    {
     "name": "stdout",
     "output_type": "stream",
     "text": [
      "After taking only initial 1 lakh samples of the dataset\n"
     ]
    },
    {
     "data": {
      "text/plain": [
       "1000000"
      ]
     },
     "execution_count": 6,
     "metadata": {},
     "output_type": "execute_result"
    }
   ],
   "source": [
    "data = df.head(1000000)\n",
    "print(\"After taking only initial 1 lakh samples of the dataset\")\n",
    "len(data)"
   ]
  },
  {
   "cell_type": "markdown",
   "id": "1efc16c0",
   "metadata": {},
   "source": [
    "### 1.3 Dataset  Analysis"
   ]
  },
  {
   "cell_type": "code",
   "execution_count": 7,
   "id": "d1ed3d29",
   "metadata": {},
   "outputs": [
    {
     "name": "stdout",
     "output_type": "stream",
     "text": [
      "<class 'pandas.core.frame.DataFrame'>\n",
      "RangeIndex: 1000000 entries, 0 to 999999\n",
      "Data columns (total 4 columns):\n",
      " #   Column     Non-Null Count    Dtype  \n",
      "---  ------     --------------    -----  \n",
      " 0   userId     1000000 non-null  object \n",
      " 1   productId  1000000 non-null  object \n",
      " 2   Rating     1000000 non-null  float64\n",
      " 3   timestamp  1000000 non-null  int64  \n",
      "dtypes: float64(1), int64(1), object(2)\n",
      "memory usage: 30.5+ MB\n"
     ]
    }
   ],
   "source": [
    "data.info()"
   ]
  },
  {
   "cell_type": "code",
   "execution_count": 8,
   "id": "db9b5e3a",
   "metadata": {},
   "outputs": [
    {
     "data": {
      "text/html": [
       "<div>\n",
       "<style scoped>\n",
       "    .dataframe tbody tr th:only-of-type {\n",
       "        vertical-align: middle;\n",
       "    }\n",
       "\n",
       "    .dataframe tbody tr th {\n",
       "        vertical-align: top;\n",
       "    }\n",
       "\n",
       "    .dataframe thead th {\n",
       "        text-align: right;\n",
       "    }\n",
       "</style>\n",
       "<table border=\"1\" class=\"dataframe\">\n",
       "  <thead>\n",
       "    <tr style=\"text-align: right;\">\n",
       "      <th></th>\n",
       "      <th>Rating</th>\n",
       "      <th>timestamp</th>\n",
       "    </tr>\n",
       "  </thead>\n",
       "  <tbody>\n",
       "    <tr>\n",
       "      <th>count</th>\n",
       "      <td>1000000.000000</td>\n",
       "      <td>1.000000e+06</td>\n",
       "    </tr>\n",
       "    <tr>\n",
       "      <th>mean</th>\n",
       "      <td>3.973618</td>\n",
       "      <td>1.246846e+09</td>\n",
       "    </tr>\n",
       "    <tr>\n",
       "      <th>std</th>\n",
       "      <td>1.399741</td>\n",
       "      <td>1.100103e+08</td>\n",
       "    </tr>\n",
       "    <tr>\n",
       "      <th>min</th>\n",
       "      <td>1.000000</td>\n",
       "      <td>9.127296e+08</td>\n",
       "    </tr>\n",
       "    <tr>\n",
       "      <th>25%</th>\n",
       "      <td>3.000000</td>\n",
       "      <td>1.168301e+09</td>\n",
       "    </tr>\n",
       "    <tr>\n",
       "      <th>50%</th>\n",
       "      <td>5.000000</td>\n",
       "      <td>1.246666e+09</td>\n",
       "    </tr>\n",
       "    <tr>\n",
       "      <th>75%</th>\n",
       "      <td>5.000000</td>\n",
       "      <td>1.355184e+09</td>\n",
       "    </tr>\n",
       "    <tr>\n",
       "      <th>max</th>\n",
       "      <td>5.000000</td>\n",
       "      <td>1.406074e+09</td>\n",
       "    </tr>\n",
       "  </tbody>\n",
       "</table>\n",
       "</div>"
      ],
      "text/plain": [
       "               Rating     timestamp\n",
       "count  1000000.000000  1.000000e+06\n",
       "mean         3.973618  1.246846e+09\n",
       "std          1.399741  1.100103e+08\n",
       "min          1.000000  9.127296e+08\n",
       "25%          3.000000  1.168301e+09\n",
       "50%          5.000000  1.246666e+09\n",
       "75%          5.000000  1.355184e+09\n",
       "max          5.000000  1.406074e+09"
      ]
     },
     "execution_count": 8,
     "metadata": {},
     "output_type": "execute_result"
    }
   ],
   "source": [
    "data.describe()"
   ]
  },
  {
   "cell_type": "code",
   "execution_count": 9,
   "id": "9637ff1e",
   "metadata": {},
   "outputs": [
    {
     "data": {
      "image/png": "[encoded data removed]",
      "text/plain": [
       "<Figure size 648x504 with 1 Axes>"
      ]
     },
     "metadata": {
      "needs_background": "light"
     },
     "output_type": "display_data"
    }
   ],
   "source": [
    "plt.figure(figsize=(9,7))\n",
    "sns.countplot(x='Rating',data=data)\n",
    "plt.xlabel('Rating')\n",
    "plt.ylabel('Number of each rating')\n",
    "plt.show()"
   ]
  },
  {
   "cell_type": "code",
   "execution_count": 10,
   "id": "644c43d5",
   "metadata": {},
   "outputs": [
    {
     "name": "stdout",
     "output_type": "stream",
     "text": [
      "The number of users in the dataset are 754152\n"
     ]
    }
   ],
   "source": [
    "users = data['userId'].unique()\n",
    "print(\"The number of users in the dataset are\", len(users))"
   ]
  },
  {
   "cell_type": "code",
   "execution_count": 11,
   "id": "4868c26a",
   "metadata": {},
   "outputs": [
    {
     "name": "stdout",
     "output_type": "stream",
     "text": [
      "The number of products in the dataset are 59633\n"
     ]
    }
   ],
   "source": [
    "products = data['productId'].unique()\n",
    "print(\"The number of products in the dataset are\", len(products))"
   ]
  },
  {
   "cell_type": "code",
   "execution_count": 12,
   "id": "30f7ed84",
   "metadata": {},
   "outputs": [
    {
     "name": "stdout",
     "output_type": "stream",
     "text": [
      "The number of ratings in the dataset are 5\n"
     ]
    }
   ],
   "source": [
    "ratings = data['Rating'].unique()\n",
    "print(\"The number of ratings in the dataset are\", len(ratings))"
   ]
  },
  {
   "cell_type": "markdown",
   "id": "93733873",
   "metadata": {},
   "source": [
    "## 2. SVD Implementation"
   ]
  },
  {
   "cell_type": "code",
   "execution_count": 14,
   "id": "a19dda31",
   "metadata": {},
   "outputs": [],
   "source": [
    "from surprise import accuracy\n",
    "from surprise.model_selection.validation import cross_validate\n",
    "from surprise.dataset import Dataset\n",
    "from surprise.reader import Reader\n",
    "from surprise import SVD"
   ]
  },
  {
   "cell_type": "markdown",
   "id": "8e9e2c8e",
   "metadata": {},
   "source": [
    "### 2.1 Dataset preparation for surprise module"
   ]
  },
  {
   "cell_type": "code",
   "execution_count": 16,
   "id": "3fcda9c2",
   "metadata": {},
   "outputs": [],
   "source": [
    "reader= Reader()\n",
    "surprise_data=Dataset.load_from_df(data[['userId', 'productId','Rating']],reader)"
   ]
  },
  {
   "cell_type": "code",
   "execution_count": 17,
   "id": "8358e107",
   "metadata": {},
   "outputs": [],
   "source": [
    "from surprise.model_selection import train_test_split\n",
    "trainset, testset= train_test_split(surprise_data,test_size=.25,random_state=10)"
   ]
  },
  {
   "cell_type": "code",
   "execution_count": 18,
   "id": "bf2ca19f",
   "metadata": {},
   "outputs": [],
   "source": [
    "trainset= surprise_data.build_full_trainset()"
   ]
  },
  {
   "cell_type": "markdown",
   "id": "5fa9b433",
   "metadata": {},
   "source": [
    "### 2.2 SVD with n_factors=100"
   ]
  },
  {
   "cell_type": "markdown",
   "id": "23d5428d",
   "metadata": {},
   "source": [
    "### 2.2.1 Model Training"
   ]
  },
  {
   "cell_type": "code",
   "execution_count": 19,
   "id": "c5dd2168",
   "metadata": {},
   "outputs": [
    {
     "name": "stdout",
     "output_type": "stream",
     "text": [
      "Time taken to train SVD  76.433173  ms\n"
     ]
    }
   ],
   "source": [
    "import datetime\n",
    "svd = SVD()\n",
    "train_start_time=datetime.datetime.now()\n",
    "resultant_matrix= svd.fit(trainset)\n",
    "train_end_time=datetime.datetime.now()\n",
    "\n",
    "print(\"Time taken to train SVD \",  (train_end_time - train_start_time).total_seconds(), \" ms\")\n"
   ]
  },
  {
   "cell_type": "markdown",
   "id": "57749b87",
   "metadata": {},
   "source": [
    "###  2.2.2 Evaluating Top n recommendations for each user"
   ]
  },
  {
   "cell_type": "code",
   "execution_count": 20,
   "id": "99321be3",
   "metadata": {},
   "outputs": [],
   "source": [
    "from collections import defaultdict\n",
    "def get_top_n(predictions, n=10):\n",
    "    \"\"\"Return the top-N recommendation for each user from a set of predictions.\n",
    "\n",
    "    Args:\n",
    "        predictions(list of Prediction objects): The list of predictions, as\n",
    "            returned by the test method of an algorithm.\n",
    "        n(int): The number of recommendation to output for each user. Default\n",
    "            is 10.\n",
    "\n",
    "    Returns:\n",
    "    A dict where keys are user (raw) ids and values are lists of tuples:\n",
    "        [(raw item id, rating estimation), ...] of size n.\n",
    "    \"\"\"\n",
    "\n",
    "    # First map the predictions to each user.\n",
    "    top_n = defaultdict(list)\n",
    "    for uid, iid, true_r, est, _ in predictions:\n",
    "        top_n[uid].append((iid, est))\n",
    "\n",
    "    # Then sort the predictions for each user and retrieve the k highest ones.\n",
    "    for uid, user_ratings in top_n.items():\n",
    "        user_ratings.sort(key=lambda x: x[1], reverse=True)\n",
    "        top_n[uid] = user_ratings[:n]\n",
    "\n",
    "    return top_n\n"
   ]
  },
  {
   "cell_type": "code",
   "execution_count": 21,
   "id": "c52e8882",
   "metadata": {},
   "outputs": [],
   "source": [
    "predictions = svd.test(testset)\n",
    "top_1_recommendations = get_top_n(predictions, n=1)\n",
    "top_5_recommendations = get_top_n(predictions, n=5)\n"
   ]
  },
  {
   "cell_type": "markdown",
   "id": "15787730",
   "metadata": {},
   "source": [
    "### 2.2.3 Evaluating recommendation system on 30 Test Samples"
   ]
  },
  {
   "cell_type": "code",
   "execution_count": 22,
   "id": "0cfe666f",
   "metadata": {},
   "outputs": [
    {
     "name": "stdout",
     "output_type": "stream",
     "text": [
      "            userId   productId  Rating\n",
      "0   A2B951Z2GP1ZG3  B00019OWU4     5.0\n",
      "1   A3UA6C6IP9JZ5F  B0000AKVJC     5.0\n",
      "2   A3S0P52OUKQXGC  B00008WIX5     5.0\n",
      "3    AUMLVWUBFCRJ2  B000AJIF4E     5.0\n",
      "4   A1VVLV8OOPK15V  B000GASM4K     5.0\n",
      "5   A2LDN3S9ZP4VRS  B0002CRVXK     2.0\n",
      "6   A2KQLMYF81O4OT  B00009KHN1     1.0\n",
      "7   A2EFLQM3E9ONXW  B000H72MMU     2.0\n",
      "8   A3TVK8KG9OCGW2  B0007WK8MQ     5.0\n",
      "9    AOKUF8CCC7987  B00009UU2Q     5.0\n",
      "10  A2Z7IYVXKOB728  B00009RA60     1.0\n",
      "11   AVNG1A2AFPVOU  B00001ZWXA     5.0\n",
      "12  A2106AJ298C6VC  B00007E7JU     4.0\n",
      "13  A203OCQQ12MAVT  B000068O16     5.0\n",
      "14  A1WX3945M8PWU9  B00008SCFL     1.0\n",
      "15  A10MINDY3117IK  B000AB2FR0     3.0\n",
      "16  A23JUSR28JZQ1M  B00096ZT0G     5.0\n",
      "17  A30F8WIJTLN6K6  B0007LFU9I     5.0\n",
      "18  A35VXRTNFXKQ1R  B00001W0DH     5.0\n",
      "19   A3PLAI506FE2D  B0000X5ZHU     5.0\n",
      "20   A3A0FI1M71WNR  B00009R6TA     5.0\n",
      "21  A36BBR77TNBIHW  B00064V6RG     5.0\n",
      "22  A3HUVO505KK08J  B000001ON6     5.0\n",
      "23  A3V72W6QKZW4VQ  B000E9U9GC     1.0\n",
      "24  A3VAFEOIRXMHYJ  B000B9RI14     5.0\n",
      "25  A3AVDC6FEEO0WR  B00069QV5I     3.0\n",
      "26  A2QKIPUOD8YG36  B000C1Z0HA     4.0\n",
      "27  A1242QJYLRKD39  B00001OPJZ     4.0\n",
      "28  A1LFOYG8FNMUYK  B00008UA9I     5.0\n",
      "29  A1N9WJQYN3ZZKS  B000067G0J     5.0\n"
     ]
    }
   ],
   "source": [
    "sample_test_set= testset[0:30]\n",
    "sample_test_set_df=pd.DataFrame(sample_test_set, columns=['userId', 'productId','Rating'])\n",
    "print(sample_test_set_df)"
   ]
  },
  {
   "cell_type": "code",
   "execution_count": 33,
   "id": "63467887",
   "metadata": {},
   "outputs": [
    {
     "name": "stdout",
     "output_type": "stream",
     "text": [
      " user:  A2B951Z2GP1ZG3 product  B00019OWU4  predicted rating  4.120120894820002  actual rating 5.0  Top-1 acc True  Top-5 acc  True Pred_time  0.000108 ms\n",
      "Top-1 recommendations :  ['B00019OWU4']\n",
      "Top-5 recommendations :  ['B00019OWU4']\n",
      "\n",
      "\n",
      "\n",
      "\n",
      "\n",
      "\n",
      " user:  A3UA6C6IP9JZ5F product  B0000AKVJC  predicted rating  4.429348462419323  actual rating 5.0  Top-1 acc True  Top-5 acc  True Pred_time  6e-05 ms\n",
      "Top-1 recommendations :  ['B0000AKVJC']\n",
      "Top-5 recommendations :  ['B0000AKVJC']\n",
      "\n",
      "\n",
      "\n",
      "\n",
      "\n",
      "\n",
      " user:  A3S0P52OUKQXGC product  B00008WIX5  predicted rating  4.510393134044508  actual rating 5.0  Top-1 acc True  Top-5 acc  True Pred_time  5.9e-05 ms\n",
      "Top-1 recommendations :  ['B00008WIX5']\n",
      "Top-5 recommendations :  ['B00008WIX5']\n",
      "\n",
      "\n",
      "\n",
      "\n",
      "\n",
      "\n",
      " user:  AUMLVWUBFCRJ2 product  B000AJIF4E  predicted rating  4.565503989221433  actual rating 5.0  Top-1 acc True  Top-5 acc  True Pred_time  5e-05 ms\n",
      "Top-1 recommendations :  ['B000AJIF4E']\n",
      "Top-5 recommendations :  ['B000AJIF4E']\n",
      "\n",
      "\n",
      "\n",
      "\n",
      "\n",
      "\n",
      " user:  A1VVLV8OOPK15V product  B000GASM4K  predicted rating  4.674654822619314  actual rating 5.0  Top-1 acc True  Top-5 acc  True Pred_time  3.4e-05 ms\n",
      "Top-1 recommendations :  ['B000GASM4K']\n",
      "Top-5 recommendations :  ['B000GASM4K']\n",
      "\n",
      "\n",
      "\n",
      "\n",
      "\n",
      "\n",
      " user:  A2LDN3S9ZP4VRS product  B0002CRVXK  predicted rating  2.9006876586823562  actual rating 2.0  Top-1 acc True  Top-5 acc  True Pred_time  2.9e-05 ms\n",
      "Top-1 recommendations :  ['B0002CRVXK']\n",
      "Top-5 recommendations :  ['B0002CRVXK']\n",
      "\n",
      "\n",
      "\n",
      "\n",
      "\n",
      "\n",
      " user:  A2KQLMYF81O4OT product  B00009KHN1  predicted rating  2.9723341426810386  actual rating 1.0  Top-1 acc True  Top-5 acc  True Pred_time  8.5e-05 ms\n",
      "Top-1 recommendations :  ['B00009KHN1']\n",
      "Top-5 recommendations :  ['B00009KHN1']\n",
      "\n",
      "\n",
      "\n",
      "\n",
      "\n",
      "\n",
      " user:  A2EFLQM3E9ONXW product  B000H72MMU  predicted rating  2.21138198724824  actual rating 2.0  Top-1 acc True  Top-5 acc  True Pred_time  0.000126 ms\n",
      "Top-1 recommendations :  ['B000H72MMU']\n",
      "Top-5 recommendations :  ['B000H72MMU']\n",
      "\n",
      "\n",
      "\n",
      "\n",
      "\n",
      "\n",
      " user:  A3TVK8KG9OCGW2 product  B0007WK8MQ  predicted rating  4.320700757278053  actual rating 5.0  Top-1 acc True  Top-5 acc  True Pred_time  8.7e-05 ms\n",
      "Top-1 recommendations :  ['B0007WK8MQ']\n",
      "Top-5 recommendations :  ['B0007WK8MQ']\n",
      "\n",
      "\n",
      "\n",
      "\n",
      "\n",
      "\n",
      " user:  AOKUF8CCC7987 product  B00009UU2Q  predicted rating  4.408225671099865  actual rating 5.0  Top-1 acc True  Top-5 acc  True Pred_time  9.7e-05 ms\n",
      "Top-1 recommendations :  ['B00009UU2Q']\n",
      "Top-5 recommendations :  ['B00009UU2Q']\n",
      "\n",
      "\n",
      "\n",
      "\n",
      "\n",
      "\n",
      " user:  A2Z7IYVXKOB728 product  B00009RA60  predicted rating  3.2639393099151746  actual rating 1.0  Top-1 acc True  Top-5 acc  True Pred_time  0.002227 ms\n",
      "Top-1 recommendations :  ['B00009RA60']\n",
      "Top-5 recommendations :  ['B00009RA60']\n",
      "\n",
      "\n",
      "\n",
      "\n",
      "\n",
      "\n",
      " user:  AVNG1A2AFPVOU product  B00001ZWXA  predicted rating  4.552523964524071  actual rating 5.0  Top-1 acc True  Top-5 acc  True Pred_time  0.005268 ms\n",
      "Top-1 recommendations :  ['B00001ZWXA']\n",
      "Top-5 recommendations :  ['B00001ZWXA']\n",
      "\n",
      "\n",
      "\n",
      "\n",
      "\n",
      "\n",
      " user:  A2106AJ298C6VC product  B00007E7JU  predicted rating  4.379789178718677  actual rating 4.0  Top-1 acc True  Top-5 acc  True Pred_time  8.2e-05 ms\n",
      "Top-1 recommendations :  ['B00007E7JU']\n",
      "Top-5 recommendations :  ['B00007E7JU']\n",
      "\n",
      "\n",
      "\n",
      "\n",
      "\n",
      "\n",
      " user:  A203OCQQ12MAVT product  B000068O16  predicted rating  5  actual rating 5.0  Top-1 acc True  Top-5 acc  True Pred_time  6.7e-05 ms\n",
      "Top-1 recommendations :  ['B000068O16']\n",
      "Top-5 recommendations :  ['B000068O16', 'B00025HBPU', 'B0000E68U2', 'B00009R6TA', 'B00006I5JC']\n",
      "\n",
      "\n",
      "\n",
      "\n",
      "\n",
      "\n",
      " user:  A1WX3945M8PWU9 product  B00008SCFL  predicted rating  1.402331251576371  actual rating 1.0  Top-1 acc True  Top-5 acc  True Pred_time  8.6e-05 ms\n",
      "Top-1 recommendations :  ['B00008SCFL']\n",
      "Top-5 recommendations :  ['B00008SCFL']\n",
      "\n",
      "\n",
      "\n",
      "\n",
      "\n",
      "\n",
      " user:  A10MINDY3117IK product  B000AB2FR0  predicted rating  3.422224311915655  actual rating 3.0  Top-1 acc True  Top-5 acc  True Pred_time  0.001888 ms\n",
      "Top-1 recommendations :  ['B000AB2FR0']\n",
      "Top-5 recommendations :  ['B000AB2FR0']\n",
      "\n",
      "\n",
      "\n",
      "\n",
      "\n",
      "\n",
      " user:  A23JUSR28JZQ1M product  B00096ZT0G  predicted rating  4.454295265330556  actual rating 5.0  Top-1 acc True  Top-5 acc  True Pred_time  0.000755 ms\n",
      "Top-1 recommendations :  ['B00096ZT0G']\n",
      "Top-5 recommendations :  ['B00096ZT0G']\n",
      "\n",
      "\n",
      "\n",
      "\n",
      "\n",
      "\n",
      " user:  A30F8WIJTLN6K6 product  B0007LFU9I  predicted rating  4.567873542854925  actual rating 5.0  Top-1 acc True  Top-5 acc  True Pred_time  0.002003 ms\n",
      "Top-1 recommendations :  ['B0007LFU9I']\n",
      "Top-5 recommendations :  ['B0007LFU9I', 'B0006NM022']\n",
      "\n",
      "\n",
      "\n",
      "\n",
      "\n",
      "\n",
      " user:  A35VXRTNFXKQ1R product  B00001W0DH  predicted rating  4.332279976665235  actual rating 5.0  Top-1 acc True  Top-5 acc  True Pred_time  0.000171 ms\n",
      "Top-1 recommendations :  ['B00001W0DH']\n",
      "Top-5 recommendations :  ['B00001W0DH']\n",
      "\n",
      "\n",
      "\n",
      "\n",
      "\n",
      "\n",
      " user:  A3PLAI506FE2D product  B0000X5ZHU  predicted rating  3.868249964695054  actual rating 5.0  Top-1 acc True  Top-5 acc  True Pred_time  0.000828 ms\n",
      "Top-1 recommendations :  ['B0000X5ZHU']\n",
      "Top-5 recommendations :  ['B0000X5ZHU']\n",
      "\n",
      "\n",
      "\n",
      "\n",
      "\n",
      "\n",
      " user:  A3A0FI1M71WNR product  B00009R6TA  predicted rating  4.647193146723716  actual rating 5.0  Top-1 acc True  Top-5 acc  True Pred_time  0.00288 ms\n",
      "Top-1 recommendations :  ['B00009R6TA']\n",
      "Top-5 recommendations :  ['B00009R6TA']\n",
      "\n",
      "\n",
      "\n",
      "\n",
      "\n",
      "\n",
      " user:  A36BBR77TNBIHW product  B00064V6RG  predicted rating  4.356109135386847  actual rating 5.0  Top-1 acc True  Top-5 acc  True Pred_time  4.1e-05 ms\n",
      "Top-1 recommendations :  ['B00064V6RG']\n",
      "Top-5 recommendations :  ['B00064V6RG']\n",
      "\n",
      "\n",
      "\n",
      "\n",
      "\n",
      "\n",
      " user:  A3HUVO505KK08J product  B000001ON6  predicted rating  4.32248585496215  actual rating 5.0  Top-1 acc True  Top-5 acc  True Pred_time  4.8e-05 ms\n",
      "Top-1 recommendations :  ['B000001ON6']\n",
      "Top-5 recommendations :  ['B000001ON6']\n",
      "\n",
      "\n",
      "\n",
      "\n",
      "\n",
      "\n",
      " user:  A3V72W6QKZW4VQ product  B000E9U9GC  predicted rating  3.2063604651390207  actual rating 1.0  Top-1 acc True  Top-5 acc  True Pred_time  0.003688 ms\n",
      "Top-1 recommendations :  ['B000E9U9GC']\n",
      "Top-5 recommendations :  ['B000E9U9GC']\n",
      "\n",
      "\n",
      "\n",
      "\n",
      "\n",
      "\n",
      " user:  A3VAFEOIRXMHYJ product  B000B9RI14  predicted rating  4.935411322463492  actual rating 5.0  Top-1 acc True  Top-5 acc  True Pred_time  4.2e-05 ms\n",
      "Top-1 recommendations :  ['B000B9RI14']\n",
      "Top-5 recommendations :  ['B000B9RI14']\n",
      "\n",
      "\n",
      "\n",
      "\n",
      "\n",
      "\n",
      " user:  A3AVDC6FEEO0WR product  B00069QV5I  predicted rating  3.3270623120613583  actual rating 3.0  Top-1 acc True  Top-5 acc  True Pred_time  2.7e-05 ms\n",
      "Top-1 recommendations :  ['B00069QV5I']\n",
      "Top-5 recommendations :  ['B00069QV5I']\n",
      "\n",
      "\n",
      "\n",
      "\n",
      "\n",
      "\n",
      " user:  A2QKIPUOD8YG36 product  B000C1Z0HA  predicted rating  3.937066386934858  actual rating 4.0  Top-1 acc True  Top-5 acc  True Pred_time  2.5e-05 ms\n",
      "Top-1 recommendations :  ['B000C1Z0HA']\n",
      "Top-5 recommendations :  ['B000C1Z0HA']\n",
      "\n",
      "\n",
      "\n",
      "\n",
      "\n",
      "\n",
      " user:  A1242QJYLRKD39 product  B00001OPJZ  predicted rating  4.360152862794687  actual rating 4.0  Top-1 acc True  Top-5 acc  True Pred_time  0.003473 ms\n",
      "Top-1 recommendations :  ['B00001OPJZ']\n",
      "Top-5 recommendations :  ['B00001OPJZ']\n",
      "\n",
      "\n",
      "\n",
      "\n",
      "\n",
      "\n",
      " user:  A1LFOYG8FNMUYK product  B00008UA9I  predicted rating  4.38068615746353  actual rating 5.0  Top-1 acc True  Top-5 acc  True Pred_time  0.002672 ms\n",
      "Top-1 recommendations :  ['B00008UA9I']\n",
      "Top-5 recommendations :  ['B00008UA9I', 'B000A7Y1F8']\n",
      "\n",
      "\n",
      "\n",
      "\n",
      "\n",
      "\n",
      " user:  A1N9WJQYN3ZZKS product  B000067G0J  predicted rating  4.310961721617748  actual rating 5.0  Top-1 acc True  Top-5 acc  True Pred_time  0.002742 ms\n",
      "Top-1 recommendations :  ['B000067G0J']\n",
      "Top-5 recommendations :  ['B000067G0J']\n",
      "\n",
      "\n",
      "\n",
      "\n",
      "\n",
      "\n"
     ]
    }
   ],
   "source": [
    "for uid,pid,r in sample_test_set:\n",
    "    pred_start_time=datetime.datetime.now()\n",
    "    prediction = svd.predict(uid=uid, iid=pid,r_ui =None)\n",
    "    pred_end_time=datetime.datetime.now()\n",
    "    top_1=[iid for (iid, _) in top_1_recommendations[uid]]\n",
    "    top_5=[iid for (iid, _) in top_5_recommendations[uid]]\n",
    "    top_1_acc=False\n",
    "    top_5_acc=False\n",
    "    if pid in top_1:\n",
    "        top_1_acc=True\n",
    "    if pid in top_5:\n",
    "        top_5_acc=True\n",
    "    \n",
    "    print(\" user: \",uid, \"product \", pid, \" predicted rating \",prediction.est, \" actual rating\", r, \" Top-1 acc\",top_1_acc,\" Top-5 acc \",  top_5_acc, \"Pred_time \", (pred_end_time - pred_start_time).total_seconds() , \"ms\")\n",
    "    print(\"Top-1 recommendations : \", top_1)\n",
    "    print(\"Top-5 recommendations : \",top_5)\n",
    "    print(\"\\n\")\n",
    "    print(\"\\n\")\n",
    "    print(\"\\n\")\n",
    "        \n",
    "    "
   ]
  },
  {
   "cell_type": "markdown",
   "id": "b110b6c4",
   "metadata": {},
   "source": [
    "### 2.2.4  Model Evaluation"
   ]
  },
  {
   "cell_type": "code",
   "execution_count": 37,
   "id": "b5ef0e31",
   "metadata": {},
   "outputs": [
    {
     "name": "stdout",
     "output_type": "stream",
     "text": [
      "Time taken to predict   5.631959  ms\n"
     ]
    },
    {
     "name": "stderr",
     "output_type": "stream",
     "text": [
      "IOPub data rate exceeded.\n",
      "The notebook server will temporarily stop sending output\n",
      "to the client in order to avoid crashing it.\n",
      "To change this limit, set the config variable\n",
      "`--NotebookApp.iopub_data_rate_limit`.\n",
      "\n",
      "Current values:\n",
      "NotebookApp.iopub_data_rate_limit=1000000.0 (bytes/sec)\n",
      "NotebookApp.rate_limit_window=3.0 (secs)\n",
      "\n"
     ]
    },
    {
     "name": "stdout",
     "output_type": "stream",
     "text": [
      "RMSE: 0.7936\n"
     ]
    },
    {
     "data": {
      "text/plain": [
       "0.7935876136487537"
      ]
     },
     "execution_count": 37,
     "metadata": {},
     "output_type": "execute_result"
    }
   ],
   "source": [
    "pred_start_time=datetime.datetime.now()\n",
    "predictions = svd.test(testset)\n",
    "pred_end_time=datetime.datetime.now()\n",
    "print(\"Time taken to predict  \",  (pred_end_time - pred_start_time).total_seconds(), \" ms\")\n",
    "\n",
    "preds = predictions\n",
    "print(preds)\n",
    "accuracy.rmse(preds)"
   ]
  },
  {
   "cell_type": "markdown",
   "id": "032e6a2b",
   "metadata": {},
   "source": [
    "### 2.3 SVD with n_factors=50"
   ]
  },
  {
   "cell_type": "markdown",
   "id": "cb28e818",
   "metadata": {},
   "source": [
    "### 2.3.1 Model Training"
   ]
  },
  {
   "cell_type": "code",
   "execution_count": 26,
   "id": "0518e2a9",
   "metadata": {},
   "outputs": [
    {
     "name": "stdout",
     "output_type": "stream",
     "text": [
      "Time taken to train SVD  50.622703  ms\n"
     ]
    }
   ],
   "source": [
    "svd2 = SVD(n_factors=50)\n",
    "train_start_time=datetime.datetime.now()\n",
    "resultant_matrix= svd2.fit(trainset)\n",
    "train_end_time=datetime.datetime.now()\n",
    "print(\"Time taken to train SVD \",  (train_end_time - train_start_time).total_seconds(), \" ms\")\n"
   ]
  },
  {
   "cell_type": "markdown",
   "id": "5dda8bf8",
   "metadata": {},
   "source": [
    "###  2.3.2 Evaluating Top n recommendations for each user"
   ]
  },
  {
   "cell_type": "code",
   "execution_count": 27,
   "id": "a0cd139c",
   "metadata": {},
   "outputs": [],
   "source": [
    "predictions = svd2.test(testset)\n",
    "top_1_recommendations = get_top_n(predictions, n=1)\n",
    "top_5_recommendations = get_top_n(predictions, n=5)"
   ]
  },
  {
   "cell_type": "markdown",
   "id": "a9970da6",
   "metadata": {},
   "source": [
    "###  2.3.3 Evaluating recommendation system on 30 Test Samples"
   ]
  },
  {
   "cell_type": "code",
   "execution_count": 28,
   "id": "45d515be",
   "metadata": {},
   "outputs": [
    {
     "name": "stdout",
     "output_type": "stream",
     "text": [
      "            userId   productId  Rating\n",
      "0   A2B951Z2GP1ZG3  B00019OWU4     5.0\n",
      "1   A3UA6C6IP9JZ5F  B0000AKVJC     5.0\n",
      "2   A3S0P52OUKQXGC  B00008WIX5     5.0\n",
      "3    AUMLVWUBFCRJ2  B000AJIF4E     5.0\n",
      "4   A1VVLV8OOPK15V  B000GASM4K     5.0\n",
      "5   A2LDN3S9ZP4VRS  B0002CRVXK     2.0\n",
      "6   A2KQLMYF81O4OT  B00009KHN1     1.0\n",
      "7   A2EFLQM3E9ONXW  B000H72MMU     2.0\n",
      "8   A3TVK8KG9OCGW2  B0007WK8MQ     5.0\n",
      "9    AOKUF8CCC7987  B00009UU2Q     5.0\n",
      "10  A2Z7IYVXKOB728  B00009RA60     1.0\n",
      "11   AVNG1A2AFPVOU  B00001ZWXA     5.0\n",
      "12  A2106AJ298C6VC  B00007E7JU     4.0\n",
      "13  A203OCQQ12MAVT  B000068O16     5.0\n",
      "14  A1WX3945M8PWU9  B00008SCFL     1.0\n",
      "15  A10MINDY3117IK  B000AB2FR0     3.0\n",
      "16  A23JUSR28JZQ1M  B00096ZT0G     5.0\n",
      "17  A30F8WIJTLN6K6  B0007LFU9I     5.0\n",
      "18  A35VXRTNFXKQ1R  B00001W0DH     5.0\n",
      "19   A3PLAI506FE2D  B0000X5ZHU     5.0\n",
      "20   A3A0FI1M71WNR  B00009R6TA     5.0\n",
      "21  A36BBR77TNBIHW  B00064V6RG     5.0\n",
      "22  A3HUVO505KK08J  B000001ON6     5.0\n",
      "23  A3V72W6QKZW4VQ  B000E9U9GC     1.0\n",
      "24  A3VAFEOIRXMHYJ  B000B9RI14     5.0\n",
      "25  A3AVDC6FEEO0WR  B00069QV5I     3.0\n",
      "26  A2QKIPUOD8YG36  B000C1Z0HA     4.0\n",
      "27  A1242QJYLRKD39  B00001OPJZ     4.0\n",
      "28  A1LFOYG8FNMUYK  B00008UA9I     5.0\n",
      "29  A1N9WJQYN3ZZKS  B000067G0J     5.0\n"
     ]
    }
   ],
   "source": [
    "sample_test_set= testset[0:30]\n",
    "sample_test_set_df=pd.DataFrame(sample_test_set, columns=['userId', 'productId','Rating'])\n",
    "print(sample_test_set_df)"
   ]
  },
  {
   "cell_type": "code",
   "execution_count": 29,
   "id": "36c83b98",
   "metadata": {},
   "outputs": [
    {
     "name": "stdout",
     "output_type": "stream",
     "text": [
      " user:  A2B951Z2GP1ZG3 product  B00019OWU4  predicted rating  4.34599284105623  actual rating 5.0  Top-1 acc True  Top-5 acc  True\n",
      "Top-1 recommendations :  ['B00019OWU4']\n",
      "Top-5 recommendations :  ['B00019OWU4']\n",
      "\n",
      "\n",
      "\n",
      "\n",
      "\n",
      "\n",
      " user:  A3UA6C6IP9JZ5F product  B0000AKVJC  predicted rating  4.431102542737964  actual rating 5.0  Top-1 acc True  Top-5 acc  True\n",
      "Top-1 recommendations :  ['B0000AKVJC']\n",
      "Top-5 recommendations :  ['B0000AKVJC']\n",
      "\n",
      "\n",
      "\n",
      "\n",
      "\n",
      "\n",
      " user:  A3S0P52OUKQXGC product  B00008WIX5  predicted rating  4.371257083404158  actual rating 5.0  Top-1 acc True  Top-5 acc  True\n",
      "Top-1 recommendations :  ['B00008WIX5']\n",
      "Top-5 recommendations :  ['B00008WIX5']\n",
      "\n",
      "\n",
      "\n",
      "\n",
      "\n",
      "\n",
      " user:  AUMLVWUBFCRJ2 product  B000AJIF4E  predicted rating  4.50014331196043  actual rating 5.0  Top-1 acc True  Top-5 acc  True\n",
      "Top-1 recommendations :  ['B000AJIF4E']\n",
      "Top-5 recommendations :  ['B000AJIF4E']\n",
      "\n",
      "\n",
      "\n",
      "\n",
      "\n",
      "\n",
      " user:  A1VVLV8OOPK15V product  B000GASM4K  predicted rating  4.766089608413684  actual rating 5.0  Top-1 acc True  Top-5 acc  True\n",
      "Top-1 recommendations :  ['B000GASM4K']\n",
      "Top-5 recommendations :  ['B000GASM4K']\n",
      "\n",
      "\n",
      "\n",
      "\n",
      "\n",
      "\n",
      " user:  A2LDN3S9ZP4VRS product  B0002CRVXK  predicted rating  3.200523721060586  actual rating 2.0  Top-1 acc True  Top-5 acc  True\n",
      "Top-1 recommendations :  ['B0002CRVXK']\n",
      "Top-5 recommendations :  ['B0002CRVXK']\n",
      "\n",
      "\n",
      "\n",
      "\n",
      "\n",
      "\n",
      " user:  A2KQLMYF81O4OT product  B00009KHN1  predicted rating  3.1126427396133094  actual rating 1.0  Top-1 acc True  Top-5 acc  True\n",
      "Top-1 recommendations :  ['B00009KHN1']\n",
      "Top-5 recommendations :  ['B00009KHN1']\n",
      "\n",
      "\n",
      "\n",
      "\n",
      "\n",
      "\n",
      " user:  A2EFLQM3E9ONXW product  B000H72MMU  predicted rating  2.942081966106785  actual rating 2.0  Top-1 acc True  Top-5 acc  True\n",
      "Top-1 recommendations :  ['B000H72MMU']\n",
      "Top-5 recommendations :  ['B000H72MMU']\n",
      "\n",
      "\n",
      "\n",
      "\n",
      "\n",
      "\n",
      " user:  A3TVK8KG9OCGW2 product  B0007WK8MQ  predicted rating  4.640546637105193  actual rating 5.0  Top-1 acc True  Top-5 acc  True\n",
      "Top-1 recommendations :  ['B0007WK8MQ']\n",
      "Top-5 recommendations :  ['B0007WK8MQ']\n",
      "\n",
      "\n",
      "\n",
      "\n",
      "\n",
      "\n",
      " user:  AOKUF8CCC7987 product  B00009UU2Q  predicted rating  4.425857561256135  actual rating 5.0  Top-1 acc True  Top-5 acc  True\n",
      "Top-1 recommendations :  ['B00009UU2Q']\n",
      "Top-5 recommendations :  ['B00009UU2Q']\n",
      "\n",
      "\n",
      "\n",
      "\n",
      "\n",
      "\n",
      " user:  A2Z7IYVXKOB728 product  B00009RA60  predicted rating  3.533499956186838  actual rating 1.0  Top-1 acc True  Top-5 acc  True\n",
      "Top-1 recommendations :  ['B00009RA60']\n",
      "Top-5 recommendations :  ['B00009RA60']\n",
      "\n",
      "\n",
      "\n",
      "\n",
      "\n",
      "\n",
      " user:  AVNG1A2AFPVOU product  B00001ZWXA  predicted rating  4.722479135805884  actual rating 5.0  Top-1 acc True  Top-5 acc  True\n",
      "Top-1 recommendations :  ['B00001ZWXA']\n",
      "Top-5 recommendations :  ['B00001ZWXA']\n",
      "\n",
      "\n",
      "\n",
      "\n",
      "\n",
      "\n",
      " user:  A2106AJ298C6VC product  B00007E7JU  predicted rating  4.45691251887025  actual rating 4.0  Top-1 acc True  Top-5 acc  True\n",
      "Top-1 recommendations :  ['B00007E7JU']\n",
      "Top-5 recommendations :  ['B00007E7JU']\n",
      "\n",
      "\n",
      "\n",
      "\n",
      "\n",
      "\n",
      " user:  A203OCQQ12MAVT product  B000068O16  predicted rating  5  actual rating 5.0  Top-1 acc True  Top-5 acc  True\n",
      "Top-1 recommendations :  ['B000068O16']\n",
      "Top-5 recommendations :  ['B000068O16', 'B00025HBPU', 'B0000E68U2', 'B00009R6TA', 'B00006I5JC']\n",
      "\n",
      "\n",
      "\n",
      "\n",
      "\n",
      "\n",
      " user:  A1WX3945M8PWU9 product  B00008SCFL  predicted rating  1.2703704811292902  actual rating 1.0  Top-1 acc True  Top-5 acc  True\n",
      "Top-1 recommendations :  ['B00008SCFL']\n",
      "Top-5 recommendations :  ['B00008SCFL']\n",
      "\n",
      "\n",
      "\n",
      "\n",
      "\n",
      "\n",
      " user:  A10MINDY3117IK product  B000AB2FR0  predicted rating  3.5086699972449895  actual rating 3.0  Top-1 acc True  Top-5 acc  True\n",
      "Top-1 recommendations :  ['B000AB2FR0']\n",
      "Top-5 recommendations :  ['B000AB2FR0']\n",
      "\n",
      "\n",
      "\n",
      "\n",
      "\n",
      "\n",
      " user:  A23JUSR28JZQ1M product  B00096ZT0G  predicted rating  4.362568514158846  actual rating 5.0  Top-1 acc True  Top-5 acc  True\n",
      "Top-1 recommendations :  ['B00096ZT0G']\n",
      "Top-5 recommendations :  ['B00096ZT0G']\n",
      "\n",
      "\n",
      "\n",
      "\n",
      "\n",
      "\n",
      " user:  A30F8WIJTLN6K6 product  B0007LFU9I  predicted rating  4.552971905158081  actual rating 5.0  Top-1 acc True  Top-5 acc  True\n",
      "Top-1 recommendations :  ['B0007LFU9I']\n",
      "Top-5 recommendations :  ['B0007LFU9I', 'B0006NM022']\n",
      "\n",
      "\n",
      "\n",
      "\n",
      "\n",
      "\n",
      " user:  A35VXRTNFXKQ1R product  B00001W0DH  predicted rating  4.380348256869493  actual rating 5.0  Top-1 acc True  Top-5 acc  True\n",
      "Top-1 recommendations :  ['B00001W0DH']\n",
      "Top-5 recommendations :  ['B00001W0DH']\n",
      "\n",
      "\n",
      "\n",
      "\n",
      "\n",
      "\n",
      " user:  A3PLAI506FE2D product  B0000X5ZHU  predicted rating  3.8235449191576363  actual rating 5.0  Top-1 acc True  Top-5 acc  True\n",
      "Top-1 recommendations :  ['B0000X5ZHU']\n",
      "Top-5 recommendations :  ['B0000X5ZHU']\n",
      "\n",
      "\n",
      "\n",
      "\n",
      "\n",
      "\n",
      " user:  A3A0FI1M71WNR product  B00009R6TA  predicted rating  4.700897931129731  actual rating 5.0  Top-1 acc True  Top-5 acc  True\n",
      "Top-1 recommendations :  ['B00009R6TA']\n",
      "Top-5 recommendations :  ['B00009R6TA']\n",
      "\n",
      "\n",
      "\n",
      "\n",
      "\n",
      "\n",
      " user:  A36BBR77TNBIHW product  B00064V6RG  predicted rating  4.151477885400459  actual rating 5.0  Top-1 acc True  Top-5 acc  True\n",
      "Top-1 recommendations :  ['B00064V6RG']\n",
      "Top-5 recommendations :  ['B00064V6RG']\n",
      "\n",
      "\n",
      "\n",
      "\n",
      "\n",
      "\n",
      " user:  A3HUVO505KK08J product  B000001ON6  predicted rating  4.32662821780465  actual rating 5.0  Top-1 acc True  Top-5 acc  True\n",
      "Top-1 recommendations :  ['B000001ON6']\n",
      "Top-5 recommendations :  ['B000001ON6']\n",
      "\n",
      "\n",
      "\n",
      "\n",
      "\n",
      "\n",
      " user:  A3V72W6QKZW4VQ product  B000E9U9GC  predicted rating  3.609834332091573  actual rating 1.0  Top-1 acc True  Top-5 acc  True\n",
      "Top-1 recommendations :  ['B000E9U9GC']\n",
      "Top-5 recommendations :  ['B000E9U9GC']\n",
      "\n",
      "\n",
      "\n",
      "\n",
      "\n",
      "\n",
      " user:  A3VAFEOIRXMHYJ product  B000B9RI14  predicted rating  4.710522203425327  actual rating 5.0  Top-1 acc True  Top-5 acc  True\n",
      "Top-1 recommendations :  ['B000B9RI14']\n",
      "Top-5 recommendations :  ['B000B9RI14']\n",
      "\n",
      "\n",
      "\n",
      "\n",
      "\n",
      "\n",
      " user:  A3AVDC6FEEO0WR product  B00069QV5I  predicted rating  3.3353326241104684  actual rating 3.0  Top-1 acc True  Top-5 acc  True\n",
      "Top-1 recommendations :  ['B00069QV5I']\n",
      "Top-5 recommendations :  ['B00069QV5I']\n",
      "\n",
      "\n",
      "\n",
      "\n",
      "\n",
      "\n",
      " user:  A2QKIPUOD8YG36 product  B000C1Z0HA  predicted rating  4.0600349867319085  actual rating 4.0  Top-1 acc True  Top-5 acc  True\n",
      "Top-1 recommendations :  ['B000C1Z0HA']\n",
      "Top-5 recommendations :  ['B000C1Z0HA']\n",
      "\n",
      "\n",
      "\n",
      "\n",
      "\n",
      "\n",
      " user:  A1242QJYLRKD39 product  B00001OPJZ  predicted rating  3.914297926420093  actual rating 4.0  Top-1 acc True  Top-5 acc  True\n",
      "Top-1 recommendations :  ['B00001OPJZ']\n",
      "Top-5 recommendations :  ['B00001OPJZ']\n",
      "\n",
      "\n",
      "\n",
      "\n",
      "\n",
      "\n",
      " user:  A1LFOYG8FNMUYK product  B00008UA9I  predicted rating  4.116291508477332  actual rating 5.0  Top-1 acc True  Top-5 acc  True\n",
      "Top-1 recommendations :  ['B00008UA9I']\n",
      "Top-5 recommendations :  ['B00008UA9I', 'B000A7Y1F8']\n",
      "\n",
      "\n",
      "\n",
      "\n",
      "\n",
      "\n",
      " user:  A1N9WJQYN3ZZKS product  B000067G0J  predicted rating  4.446091754407714  actual rating 5.0  Top-1 acc True  Top-5 acc  True\n",
      "Top-1 recommendations :  ['B000067G0J']\n",
      "Top-5 recommendations :  ['B000067G0J']\n",
      "\n",
      "\n",
      "\n",
      "\n",
      "\n",
      "\n"
     ]
    }
   ],
   "source": [
    "for uid,pid,r in sample_test_set:\n",
    "    prediction = svd2.predict(uid=uid, iid=pid,r_ui =None)\n",
    "    top_1=[iid for (iid, _) in top_1_recommendations[uid]]\n",
    "    top_5=[iid for (iid, _) in top_5_recommendations[uid]]\n",
    "    top_1_acc=False\n",
    "    top_5_acc=False\n",
    "    if pid in top_1:\n",
    "        top_1_acc=True\n",
    "    if pid in top_5:\n",
    "        top_5_acc=True\n",
    "    \n",
    "    print(\" user: \",uid, \"product \", pid, \" predicted rating \",prediction.est, \" actual rating\", r, \" Top-1 acc\",top_1_acc,\" Top-5 acc \",  top_5_acc)\n",
    "    print(\"Top-1 recommendations : \", top_1)\n",
    "    print(\"Top-5 recommendations : \",top_5)\n",
    "    print(\"\\n\")\n",
    "    print(\"\\n\")\n",
    "    print(\"\\n\")\n",
    "        "
   ]
  },
  {
   "cell_type": "markdown",
   "id": "ee4a090d",
   "metadata": {},
   "source": [
    "### 2.3.4  Model Evaluation\n"
   ]
  },
  {
   "cell_type": "code",
   "execution_count": 30,
   "id": "329e7797",
   "metadata": {},
   "outputs": [
    {
     "name": "stdout",
     "output_type": "stream",
     "text": [
      "Time taken to predict   50.622703  ms\n"
     ]
    },
    {
     "name": "stderr",
     "output_type": "stream",
     "text": [
      "IOPub data rate exceeded.\n",
      "The notebook server will temporarily stop sending output\n",
      "to the client in order to avoid crashing it.\n",
      "To change this limit, set the config variable\n",
      "`--NotebookApp.iopub_data_rate_limit`.\n",
      "\n",
      "Current values:\n",
      "NotebookApp.iopub_data_rate_limit=1000000.0 (bytes/sec)\n",
      "NotebookApp.rate_limit_window=3.0 (secs)\n",
      "\n"
     ]
    },
    {
     "name": "stdout",
     "output_type": "stream",
     "text": [
      "RMSE: 0.9166\n"
     ]
    },
    {
     "data": {
      "text/plain": [
       "0.9166345712714397"
      ]
     },
     "execution_count": 30,
     "metadata": {},
     "output_type": "execute_result"
    }
   ],
   "source": [
    "pred_start_time=datetime.datetime.now()\n",
    "predictions = svd2.test(testset)\n",
    "pred_end_time=datetime.datetime.now()\n",
    "print(\"Time taken to predict  \",  (train_end_time - train_start_time).total_seconds(), \" ms\")\n",
    "\n",
    "preds = predictions\n",
    "print(preds)\n",
    "accuracy.rmse(preds)"
   ]
  }
 ],
 "metadata": {
  "kernelspec": {
   "display_name": "Python 3",
   "language": "python",
   "name": "python3"
  },
  "language_info": {
   "codemirror_mode": {
    "name": "ipython",
    "version": 3
   },
   "file_extension": ".py",
   "mimetype": "text/x-python",
   "name": "python",
   "nbconvert_exporter": "python",
   "pygments_lexer": "ipython3",
   "version": "3.6.5"
  }
 },
 "nbformat": 4,
 "nbformat_minor": 5
}
